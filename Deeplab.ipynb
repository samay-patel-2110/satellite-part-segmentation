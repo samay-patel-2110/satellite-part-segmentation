{
 "cells": [
  {
   "cell_type": "code",
   "execution_count": 1,
   "metadata": {},
   "outputs": [],
   "source": [
    "import torch\n",
    "import torch.nn as nn\n",
    "import torch.optim as optim\n",
    "import torch.nn.functional as F\n",
    "import torchvision\n",
    "from torchvision.io import ImageReadMode\n",
    "from torch.utils.data import DataLoader\n",
    "from torch.utils.data import Dataset\n",
    "import torchvision.transforms as transforms\n",
    "from torchvision.transforms import InterpolationMode as IM\n",
    "import os\n",
    "import numpy as np\n",
    "import time\n",
    "from tqdm import tqdm\n",
    "import matplotlib.pyplot as plt"
   ]
  },
  {
   "cell_type": "code",
   "execution_count": 2,
   "metadata": {},
   "outputs": [
    {
     "name": "stdout",
     "output_type": "stream",
     "text": [
      "MPS device ASSIGNED!.\n"
     ]
    }
   ],
   "source": [
    "# Loading Model to MPS Backend\n",
    "if torch.backends.mps.is_available():\n",
    "    mps_device = torch.device(\"mps\")\n",
    "    print(\"MPS device ASSIGNED!.\")\n",
    "else:\n",
    "    mps_device = torch.device('cpu')\n",
    "    print(\"MPS device not found.\")"
   ]
  },
  {
   "cell_type": "markdown",
   "metadata": {},
   "source": [
    "## DeepLab V3\n",
    "\n",
    "Inverted convolution\n",
    "Squeeze adn excitation\n",
    "Depthwise-seperable Conv\n"
   ]
  },
  {
   "cell_type": "code",
   "execution_count": 3,
   "metadata": {},
   "outputs": [],
   "source": [
    "class SqueezeAndExcitation(nn.Module):\n",
    "    def __init__(self, c, ratio=8):\n",
    "        super().__init__()\n",
    "        self.ratio = ratio\n",
    "        self.L1 = nn.Linear(c, c // self.ratio)\n",
    "        self.L2 = nn.Linear(c // self.ratio, c)\n",
    "\n",
    "    def forward(self, inputs):\n",
    "        b = inputs.size(0)\n",
    "        c = inputs.size(1)\n",
    "        x = F.adaptive_avg_pool2d(inputs, 1)  # (batch_size, channels)\n",
    "        # device=self.device\n",
    "        x = self.L1(x.view(b, c))\n",
    "        x = F.relu(x)\n",
    "        # device=self.device\n",
    "        x = self.L2(x)\n",
    "        x = torch.sigmoid(x)\n",
    "        x = x.view(b, c, 1, 1)\n",
    "        x = F.relu(inputs * x)\n",
    "        return x"
   ]
  },
  {
   "cell_type": "code",
   "execution_count": 4,
   "metadata": {},
   "outputs": [],
   "source": [
    "class BlockResNet(nn.Module):\n",
    "    def __init__(self, input_c, output_c, device, kernel_size=3, K=1, stride=1, dilation=1, use_bias=True, depth=True):\n",
    "        super(BlockResNet, self).__init__()\n",
    "        self.k_s = kernel_size\n",
    "        self.dia = dilation\n",
    "        self.s = stride\n",
    "        self.depth = depth\n",
    "        self.device = device\n",
    "        self.out = output_c\n",
    "        # For stride = 1\n",
    "        \n",
    "\n",
    "        # For Stride = 2\n",
    "        if stride == 2:\n",
    "            self.conv_2 = nn.Conv2d(in_channels=input_c, out_channels=input_c*2, kernel_size=1,\n",
    "                                    stride=1, padding='same', groups=1)\n",
    "            if (dilation != 1):\n",
    "                self.depthwise_2 = nn.Conv2d(in_channels=input_c*2, out_channels=K*input_c*2,\n",
    "                                            kernel_size=kernel_size, padding=1, stride=1,\n",
    "                                            dilation=dilation, groups=input_c*2)\n",
    "            else:\n",
    "                self.depthwise_2 = nn.Conv2d(in_channels=input_c*2, out_channels=K*input_c*2,  # padding =1 will lead to half the size\n",
    "                                            kernel_size=kernel_size, padding=1, stride=stride,\n",
    "                                            dilation=1, groups=input_c*2)\n",
    "            self.pointwise_concat = nn.Conv2d(in_channels=input_c, out_channels=output_c,\n",
    "                                            kernel_size=1, padding='valid', stride=2,\n",
    "                                            groups=1)\n",
    "            self.pointwise_comp_2 = nn.Conv2d(in_channels=K*input_c*2, out_channels=output_c,\n",
    "                                        kernel_size=1, padding='same', stride=1,\n",
    "                                        groups=1)\n",
    "            self.batchn21 = nn.BatchNorm2d(input_c*2, momentum=0.001)\n",
    "            self.batchn22 = nn.BatchNorm2d(input_c*2, momentum=0.001)\n",
    "            self.batchn23 = nn.BatchNorm2d(output_c, momentum=0.001)\n",
    "            self.batchn24 = nn.BatchNorm2d(output_c, momentum=0.001)\n",
    "            self.SqueezeAndExcitation = SqueezeAndExcitation(output_c)\n",
    "\n",
    "        else:  \n",
    "            self.pointwise_exp = nn.Conv2d(in_channels=input_c, out_channels=input_c*2,\n",
    "                                       kernel_size=1, padding='same', stride=1,\n",
    "                                       dilation=dilation, groups=1)\n",
    "            self.depthwise = nn.Conv2d(in_channels=input_c*2, out_channels=K*input_c*2,\n",
    "                                   kernel_size=kernel_size, padding='same', stride=1,\n",
    "                                   dilation=dilation, groups=input_c*2)\n",
    "            self.pointwise_comp = nn.Conv2d(in_channels=K*input_c*2, out_channels=output_c,\n",
    "                                        kernel_size=1, padding='same', stride=1,\n",
    "                                        groups=1)\n",
    "            self.batchn11 = nn.BatchNorm2d(input_c*2, momentum=0.001)\n",
    "            self.batchn12 = nn.BatchNorm2d(input_c*2, momentum=0.001)\n",
    "            self.batchn13 = nn.BatchNorm2d(output_c, momentum=0.001)\n",
    "            \n",
    "            self.SqueezeAndExcitation = SqueezeAndExcitation(output_c)\n",
    "    \n",
    "    def forward(self, input):\n",
    "\n",
    "        if self.depth == True:\n",
    "\n",
    "            if self.s == 1:\n",
    "                # ResNet Block (Depth-seperable conv)\n",
    "                g1 = F.relu(self.batchn11(self.pointwise_exp(input)))\n",
    "                g1 = F.relu(self.batchn12(self.depthwise(g1)))\n",
    "                g1 = F.relu(self.batchn13(self.pointwise_comp(g1)))\n",
    "                g1 = self.SqueezeAndExcitation(g1)\n",
    "                # Concate\n",
    "                g1 = F.relu(g1 + input)\n",
    "                \n",
    "                return g1\n",
    "\n",
    "            elif self.s == 2:\n",
    "                # padding = (input.size(2)+self.k_s-2)//2\n",
    "                # g1 = F.pad(g1, (padding, padding+1, padding, padding+1))\n",
    "                # ResNet Block (Depth-seperable conv)\n",
    "                g1 = F.relu(self.batchn21(self.conv_2(input)))\n",
    "                g1 = F.relu(self.batchn22(self.depthwise_2(g1)))\n",
    "                g1 = F.relu(self.batchn23(self.pointwise_comp_2(g1)))\n",
    "                # Concate\n",
    "                # convert to required channels\n",
    "                input = F.relu(self.batchn23(self.pointwise_concat(input)))\n",
    "                g1 = self.SqueezeAndExcitation(g1)\n",
    "                g1 = F.relu(g1 + input)\n",
    "                return g1\n",
    "\n",
    "            else:\n",
    "                print(\"Only Stride 1 or 2 allowed\")\n",
    "                return 1\n",
    "\n",
    "        else:\n",
    "            print(\"For Now only Depthwise allowed\")\n",
    "            return 1"
   ]
  },
  {
   "cell_type": "code",
   "execution_count": 5,
   "metadata": {},
   "outputs": [],
   "source": [
    "class ASPP(nn.Module):\n",
    "    def __init__(self, input_c=256, multigrid=(1, 2, 3), ratio=6, K=1):\n",
    "        super(ASPP, self).__init__()\n",
    "\n",
    "        self.multigrid = multigrid\n",
    "        self.b_1 = nn.Conv2d(in_channels=input_c, out_channels=K*input_c,\n",
    "                             kernel_size=(3, 3), padding='same', stride=1,\n",
    "                             dilation=self.multigrid[0]*ratio, groups=input_c)\n",
    "        self.b_2 = nn.Conv2d(in_channels=input_c, out_channels=K*input_c,\n",
    "                             kernel_size=(3, 3), padding='same', stride=1,\n",
    "                             dilation=self.multigrid[1]*ratio, groups=input_c)\n",
    "        self.b_3 = nn.Conv2d(in_channels=input_c, out_channels=K*input_c,\n",
    "                             kernel_size=(3, 3), padding='same', stride=1,\n",
    "                             dilation=self.multigrid[2]*ratio, groups=input_c)\n",
    "        self.b_1x1 = nn.Conv2d(in_channels=input_c, out_channels=K*input_c,\n",
    "                               kernel_size=(1, 1), padding='same', stride=1,\n",
    "                               dilation=self.multigrid[0]*ratio, groups=input_c)\n",
    "\n",
    "        self.pooling_conv = nn.Conv2d(in_channels=input_c, out_channels=input_c,\n",
    "                                      kernel_size=(1, 1), padding='same', stride=1,\n",
    "                                      groups=1)\n",
    "        self.out_pool = nn.Upsample(size = (32,32), mode='bilinear')\n",
    "        self.final_conv = nn.Conv2d(in_channels=input_c*5, out_channels=input_c,\n",
    "                                    kernel_size=(1, 1), padding='same', stride=1,\n",
    "                                    groups=1)\n",
    "        self.batchn1 = nn.BatchNorm2d(input_c)\n",
    "        self.batchn2 = nn.BatchNorm2d(input_c)\n",
    "        self.batchn3 = nn.BatchNorm2d(input_c)\n",
    "        self.batchn4 = nn.BatchNorm2d(input_c)\n",
    "        self.batchn5 = nn.BatchNorm2d(input_c)\n",
    "        self.batchn6 = nn.BatchNorm2d(input_c)\n",
    "        self.batchn7 = nn.BatchNorm2d(input_c)\n",
    "        self.SqueezeAndExcitation = SqueezeAndExcitation(input_c*5)\n",
    "    def forward(self, inputs):\n",
    "        b_1 = F.relu(self.batchn1(self.b_1(inputs)))\n",
    "        b_2 = F.relu(self.batchn2(self.b_2(inputs)))\n",
    "        b_3 = F.relu(self.batchn3(self.b_3(inputs)))\n",
    "        b_1x1 = F.relu(self.batchn4(self.b_1x1(inputs)))\n",
    "        \n",
    "        k = b_3.size(2)\n",
    "        n = b_3.size(3)\n",
    "        out_pool = F.adaptive_avg_pool2d(inputs, 1)\n",
    "        out_pool = out_pool.reshape(inputs.size(0), inputs.size(1), 1, 1)\n",
    "        out_pool = F.relu(self.batchn6(self.pooling_conv(out_pool)))   \n",
    "        # out_pool = self.out_pool(out_pool)\n",
    "\n",
    "        x = torch.cat((b_1, b_2, b_3, b_1x1, out_pool.repeat(1,1,k,n)), dim=1)\n",
    "        x = self.SqueezeAndExcitation(x)\n",
    "        x = F.relu(self.batchn7(self.final_conv(x)))\n",
    "    \n",
    "        return x"
   ]
  },
  {
   "cell_type": "code",
   "execution_count": 6,
   "metadata": {},
   "outputs": [],
   "source": [
    "class DeepLab(nn.Module):\n",
    "    def __init__(self, input_c, num_classes, device, num_block=3):\n",
    "        super(DeepLab, self).__init__()\n",
    "        self.ks = 64\n",
    "        self.final_input = (self.ks*(num_block+1))+(self.ks)\n",
    "        self.c_1 = nn.Conv2d(in_channels=input_c, out_channels=self.ks,\n",
    "                             kernel_size=(7, 7), padding=3, stride=2)\n",
    "        self.mp_1 = nn.MaxPool2d(kernel_size=(3, 3), stride=(2, 2), padding=1)\n",
    "        self.block_1 = BlockResNet(self.ks, self.ks, device=device)\n",
    "        self.block_1_2 = BlockResNet(\n",
    "            self.ks, self.ks*2, stride=2, device=device)\n",
    "        self.block_2 = BlockResNet(self.ks*2, self.ks*2, device=device)\n",
    "        self.block_2_2 = BlockResNet(\n",
    "            self.ks*2, self.ks*4, stride=2, device=device)\n",
    "        self.block_3 = BlockResNet(\n",
    "            self.ks*4, self.ks*4, dilation=2, device=device)\n",
    "        self.assp = ASPP()\n",
    "        self.upsample = nn.Upsample(scale_factor=4)\n",
    "        self.conv_3x3 = nn.Conv2d(in_channels=self.final_input, out_channels=num_classes,\n",
    "                                  stride=1, kernel_size=(3, 3), padding='same')\n",
    "        self.softmax = nn.Softmax(dim=1)\n",
    "\n",
    "    def forward(self, inputs):\n",
    "        x = self.c_1(inputs)\n",
    "        x = self.mp_1(x)\n",
    "\n",
    "        for _ in range(3):   # Block 1\n",
    "            x = self.block_1(x)\n",
    "        skip = x\n",
    "        x = self.block_1_2(x)\n",
    "\n",
    "        for _ in range(3):   # Block 2\n",
    "            x = self.block_2(x)\n",
    "        x = self.block_2_2(x)\n",
    "\n",
    "        for _ in range(3):  # Block 3\n",
    "            x = self.block_3(x)\n",
    "        x = self.assp(x)\n",
    "\n",
    "        x = self.upsample(x)\n",
    "        x = torch.cat([skip, x], dim=1)\n",
    "\n",
    "        x = self.conv_3x3(x)\n",
    "        x = self.softmax(x)\n",
    "        x = self.upsample(x)\n",
    "\n",
    "        return x"
   ]
  },
  {
   "cell_type": "markdown",
   "metadata": {},
   "source": [
    "## Function Definitions\n"
   ]
  },
  {
   "cell_type": "code",
   "execution_count": 7,
   "metadata": {},
   "outputs": [],
   "source": [
    "def save_checkpoint(state, filename,run_name,extension):\n",
    "    x = os.path.join(filename,run_name+extension)\n",
    "    if os.path.exists(x):\n",
    "        torch.save(state, x)\n",
    "        print(\"Saving Checkpoint\")\n",
    "        return\n",
    "    else:\n",
    "        with open(x, 'w') as fp:\n",
    "            fp.close()\n",
    "        # If model is running for first time then Save\n",
    "        torch.save(state, x)\n",
    "        print(\"Saving Checkpoint\")\n",
    "        return"
   ]
  },
  {
   "cell_type": "code",
   "execution_count": 8,
   "metadata": {},
   "outputs": [],
   "source": [
    "def meanIOU(true, predicted):\n",
    "    # Calculates mIOU for a mini-batch\n",
    "    predicted_arr = predicted.clone().detach().cpu().numpy().argmax(1)\n",
    "    groundt = true.clone().detach().cpu().numpy()\n",
    "    intersection = np.logical_and(groundt, predicted_arr).sum()\n",
    "    union = np.logical_or(groundt, predicted_arr).sum()\n",
    "\n",
    "    iou_score = intersection / union\n",
    "\n",
    "    return iou_score"
   ]
  },
  {
   "cell_type": "code",
   "execution_count": 9,
   "metadata": {},
   "outputs": [],
   "source": [
    "# Accuracy check function\n",
    "def check_accuracy(loader, model):\n",
    "    if loader.dataset.train:\n",
    "        print(\"testing on training data\")\n",
    "    else:\n",
    "        print(\"Testing on Testing data\")\n",
    "    correct = 0\n",
    "    iou = 0\n",
    "    num_samples = 0\n",
    "    model.eval()  # We're telling model to shift to eval mode\n",
    "\n",
    "    with torch.no_grad():   # we dont want the model to calculate the graidents\n",
    "        # just the outputs are required as model is already trained\n",
    "        start1 = time.time()\n",
    "        for x, y in loader:\n",
    "            x = x.to(mps_device)\n",
    "            y = y.to(mps_device)\n",
    "            num_samples += x.size(0)*y.size(1)*y.size(2)\n",
    "            scores = model(x)\n",
    "            preds = scores.clone().detach().max(1)[1]\n",
    "            correct += preds.eq(y).sum().item()\n",
    "            iou += meanIOU(y,scores)\n",
    "            \n",
    "\n",
    "        # end = time.time()\n",
    "        # print(f\"epoch {epochs} time : {start-end}\")\n",
    "        epoch_accuracy = round((correct / (num_samples))*100,2)\n",
    "        print(\"val_accuracy : \", epoch_accuracy)\n",
    "        model.train()\n",
    "        return round(epoch_accuracy, 2), iou/len(loader)"
   ]
  },
  {
   "cell_type": "markdown",
   "metadata": {},
   "source": [
    "## Dataset\n"
   ]
  },
  {
   "cell_type": "code",
   "execution_count": 10,
   "metadata": {},
   "outputs": [],
   "source": [
    "train_root = 'dataset/images/train/'\n",
    "train_mask_root = 'dataset/mask/train/'\n",
    "\n",
    "test_root = 'dataset/images/val/'\n",
    "test_mask_root = 'dataset/mask/val/'"
   ]
  },
  {
   "cell_type": "code",
   "execution_count": 11,
   "metadata": {},
   "outputs": [
    {
     "data": {
      "image/png": "[encoded data removed]",
      "text/plain": [
       "<Figure size 640x480 with 1 Axes>"
      ]
     },
     "metadata": {},
     "output_type": "display_data"
    },
    {
     "name": "stdout",
     "output_type": "stream",
     "text": [
      "tensor([  0,  29,  76, 149], dtype=torch.uint8)\n",
      "torch.Size([1, 720, 1280])\n",
      "<class 'torch.Tensor'>\n"
     ]
    },
    {
     "data": {
      "text/plain": [
       "False"
      ]
     },
     "execution_count": 11,
     "metadata": {},
     "output_type": "execute_result"
    }
   ],
   "source": [
    "# RANDOM TEST\n",
    "im1 = os.path.join(train_root, 'img_resize_0.png')\n",
    "mas1 = os.path.join(train_mask_root, 'img_resize_133.png')\n",
    "\n",
    "x = torchvision.io.read_image(mas1, mode=ImageReadMode.GRAY)\n",
    "plt.imshow(x.permute(1, 2, 0))\n",
    "plt.show()\n",
    "\n",
    "print(torch.unique(x))\n",
    "print(x.shape)\n",
    "print(type(x))\n",
    "os.path.isfile(train_root)"
   ]
  },
  {
   "cell_type": "code",
   "execution_count": 12,
   "metadata": {},
   "outputs": [],
   "source": [
    "# To remove _mask at the end of each file to make it cosistent while sorting\n",
    "for filename in os.listdir(train_mask_root):\n",
    "    file_path = os.path.join(train_mask_root, filename)\n",
    "\n",
    "    if os.path.isfile(file_path):\n",
    "        file_name, file_extension = os.path.splitext(filename)\n",
    "\n",
    "        # Split the file name into words and remove the last 3 words\n",
    "        if file_name.endswith('_mask'):\n",
    "            new_file_name = file_name[:-5] + file_extension\n",
    "            new_file_path = os.path.join(train_mask_root, new_file_name)\n",
    "            os.rename(file_path, new_file_path)\n",
    "            print(f\"Renamed: {filename} -> {new_file_name}\")"
   ]
  },
  {
   "cell_type": "code",
   "execution_count": 13,
   "metadata": {},
   "outputs": [],
   "source": [
    "class sat_dataset(Dataset):\n",
    "    def __init__(self, root, mask_root, inp_shape, transform=None, interpolation=IM.BILINEAR, train=True):\n",
    "        self.images = os.listdir(root)\n",
    "        self.masks = os.listdir(mask_root)\n",
    "        self.train_bool = train\n",
    "        self.root = root\n",
    "        self.mask_root = mask_root\n",
    "        self.transform = transform\n",
    "        self.inp_shape = inp_shape\n",
    "        self.interpolation = interpolation\n",
    "        self.resize = transforms.Resize(size=self.inp_shape, interpolation=self.interpolation,\n",
    "                                        antialias=True)\n",
    "        for i in self.images:\n",
    "            if (i == '.DS_Store'):\n",
    "                self.images.remove('.DS_Store')\n",
    "        for i in self.masks:\n",
    "            if (i == '.DS_Store'):\n",
    "                self.masks.remove('.DS_Store')\n",
    "        self.images.sort()\n",
    "        self.masks.sort()\n",
    "\n",
    "    def __len__(self):\n",
    "        return len(self.images)\n",
    "\n",
    "    def train(self) -> bool:\n",
    "        return self.train_bool\n",
    "\n",
    "    def __getitem__(self, index):\n",
    "\n",
    "        img_path = os.path.join(self.root, self.images[index])\n",
    "        img = torchvision.io.read_image(img_path, mode=ImageReadMode.RGB)\n",
    "        # Always use RGB as mode or else it ouputs 4 dim sometimes\n",
    "        img_path = os.path.join(self.mask_root, self.masks[index])\n",
    "        mask = torchvision.io.read_image(img_path, mode=ImageReadMode.GRAY)\n",
    "\n",
    "        # One-Hot encoding mask\n",
    "        mask = mask.numpy()\n",
    "        # Define the mapping from original values to new values\n",
    "        value_mapping = {0: 0, 76: 1, 149: 2, 29: 3}  # 149 -> yellow\n",
    "        # 76-> green_blue\n",
    "        # 29 -> blue\n",
    "        # Apply the mapping to the entire image array\n",
    "        mask = np.vectorize(value_mapping.get)(mask)\n",
    "        mask = torch.tensor(mask, dtype=torch.long)\n",
    "        # print(torch.unique(mask))\n",
    "        # print(mask.shape)\n",
    "\n",
    "        img = img/255.0\n",
    "\n",
    "        # img = img.astype(np.float32)\n",
    "        # mask = mask.astype(np.float32)\n",
    "\n",
    "        if (self.transform):\n",
    "            img = self.transform(img)\n",
    "            mask = self.transform(mask)\n",
    "\n",
    "        img = self.resize(img)\n",
    "        mask = self.resize(mask)\n",
    "        mask = mask.squeeze(0)\n",
    "\n",
    "        return img, mask"
   ]
  },
  {
   "cell_type": "markdown",
   "metadata": {},
   "source": [
    "## Training\n"
   ]
  },
  {
   "cell_type": "code",
   "execution_count": 14,
   "metadata": {},
   "outputs": [],
   "source": [
    "classes = 4\n",
    "learning_rate = 0.001\n",
    "batch_size = 10\n",
    "num_epochs = 100\n",
    "filename = 'model_runs'\n",
    "run_name = 'DeepLab_new'\n",
    "extension = '.pth.tar'\n",
    "inputH = 512\n",
    "inputW = 512\n",
    "\n",
    "inp_dim = (inputH, inputW)\n",
    "inputC = 3\n",
    "class_weight = torch.tensor([0.29, 1.2, 0.7, 20], device=torch.device('mps'))\n",
    "mps_device = torch.device('mps')\n",
    "model1 = DeepLab(input_c=inputC, num_classes=classes, device=mps_device)\n",
    "model = model1.to(mps_device)\n",
    "metrics = nn.CrossEntropyLoss()\n",
    "optimizer = optim.Adam(model.parameters(), lr=learning_rate)\n",
    "scheduler = torch.optim.lr_scheduler.ReduceLROnPlateau(optimizer, patience=5)"
   ]
  },
  {
   "cell_type": "code",
   "execution_count": 15,
   "metadata": {},
   "outputs": [],
   "source": [
    "sat_train_data = sat_dataset(root=train_root, mask_root=train_mask_root,\n",
    "                             inp_shape=inp_dim,\n",
    "                             #  transform=transforms.ToTensor()\n",
    "                             )\n",
    "train_loader = DataLoader(dataset=sat_train_data,\n",
    "                          shuffle=True, batch_size=batch_size)\n",
    "\n",
    "sat_test_data = sat_dataset(root=test_root, mask_root=test_mask_root,\n",
    "                             inp_shape=inp_dim,train=False\n",
    "                             #  transform=transforms.ToTensor()\n",
    "                             )\n",
    "test_loader = DataLoader(dataset=sat_test_data,\n",
    "                          shuffle=True, batch_size=batch_size)"
   ]
  },
  {
   "cell_type": "code",
   "execution_count": 16,
   "metadata": {},
   "outputs": [],
   "source": [
    "if (os.path.isfile(os.path.join(run_name+extension))):\n",
    "    prev_model = torch.load(os.path.join(run_name+extension))\n",
    "    model.load_state_dict(prev_model['state_dict'])\n",
    "    max_iou = prev_model['m_iou']\n",
    "else:\n",
    "    max_iou = 0"
   ]
  },
  {
   "cell_type": "code",
   "execution_count": 17,
   "metadata": {},
   "outputs": [],
   "source": [
    "val_acc_l = []\n",
    "train_acc_l = []\n",
    "loss_l = []"
   ]
  },
  {
   "cell_type": "code",
   "execution_count": null,
   "metadata": {},
   "outputs": [],
   "source": [
    "for epochs in range(num_epochs):\n",
    "    # start = time.time()\n",
    "    num_samples = 0\n",
    "    iou = 0\n",
    "    final_loss = 0\n",
    "    correct = 0\n",
    "    loop = tqdm(train_loader)\n",
    "\n",
    "    for batch_idx, (train, targets) in enumerate(loop):\n",
    "        data = train.to(mps_device)\n",
    "        targets = targets.to(mps_device)  # now we have loaded the data\n",
    "\n",
    "        num_samples += data.size(0)  # Clac num_samples to calc average loss\n",
    "        scores = model(data)\n",
    "        \n",
    "        loss = metrics(scores, targets)\n",
    "        final_loss += loss.item()  # to calculate average loss\n",
    "        \n",
    "        # gradient descent\n",
    "        optimizer.zero_grad()\n",
    "        loss.backward()\n",
    "        optimizer.step()\n",
    "        \n",
    "        # OVerall acc\n",
    "        preds = scores.clone().detach().max(1)[1]\n",
    "        correct += preds.eq(targets).sum().item()\n",
    "    # end = time.time()\n",
    "    # print(f\"epoch {epochs} time : {start-end}\")\n",
    "    final_loss = final_loss/num_samples\n",
    "    epoch_accuracy = round((correct / (num_samples*inputH*inputW))*100, 3)\n",
    "    scheduler.step(final_loss)\n",
    "    val_acc, iou = check_accuracy(test_loader, model)\n",
    "    \n",
    "    val_acc_l.append(val_acc)\n",
    "    train_acc_l.append(epoch_accuracy)\n",
    "    loss_l.append(final_loss)\n",
    "    \n",
    "    print(\"train_accuracy : \", epoch_accuracy)\n",
    "    print(f\"IoU : \", iou)\n",
    "    print(f\"Loss {epochs} : {final_loss:5f}\")\n",
    "\n",
    "    if (iou > max_iou):\n",
    "        max_iou = iou\n",
    "        min_loss = final_loss\n",
    "        checkpoint = {'state_dict': model.state_dict(),\n",
    "                      'optimizer': optimizer.state_dict(),\n",
    "                      'val_accuracy': val_acc,\n",
    "                      'train_accuracy': epoch_accuracy,\n",
    "                      'epoch': epochs,\n",
    "                      'loss': final_loss,\n",
    "                      'm_iou':iou}\n",
    "        save_checkpoint(checkpoint,'',run_name,extension)"
   ]
  },
  {
   "cell_type": "markdown",
   "metadata": {},
   "source": [
    "## Testing\n"
   ]
  },
  {
   "cell_type": "code",
   "execution_count": null,
   "metadata": {},
   "outputs": [],
   "source": [
    "# Custom Test data\n",
    "sat_test_data = sat_dataset(test_root, test_mask_root, train=False,\n",
    "                            inp_shape=inp_dim)\n",
    "# transform=transforms.ToTensor())\n",
    "test_loader = DataLoader(sat_test_data, shuffle=True, batch_size=batch_size)"
   ]
  },
  {
   "cell_type": "code",
   "execution_count": null,
   "metadata": {},
   "outputs": [],
   "source": [
    "def one_item_test(i):\n",
    "\n",
    "    x, y = sat_test_data.__getitem__(i)\n",
    "    x = x.unsqueeze(0)  # as there is no batch size\n",
    "    y = y.unsqueeze(0)  # add an extra dimension to fit the model\n",
    "    x = x.to(mps_device)\n",
    "    y = y.to(mps_device)\n",
    "\n",
    "    scores = model(x)\n",
    "    _, predictions = scores.max(1)\n",
    "\n",
    "    # making shape compatible for numpy operation\n",
    "    predictions = predictions.cpu().numpy()\n",
    "    y = y.cpu().numpy()\n",
    "    shape = (1, inputH, inputW)  # shape of output of model\n",
    "    y = np.resize(y, (shape[1], shape[2], shape[0]))\n",
    "    predictions = np.resize(predictions, (shape[1], shape[2], shape[0]))\n",
    "\n",
    "    fig, axes = plt.subplots(1, 2, figsize=(10, 5))\n",
    "\n",
    "    # Plot the first image on the left subplot\n",
    "    # Adjust colormap and limits as needed\n",
    "    axes[0].imshow(y, cmap='viridis', vmin=0, vmax=3)\n",
    "    axes[0].set_title(\"Ground Truth\")\n",
    "\n",
    "    # Plot the second image on the right subplot\n",
    "    # Adjust colormap and limits as needed\n",
    "    axes[1].imshow(predictions, cmap='viridis', vmin=0, vmax=3)\n",
    "    axes[1].set_title(\"Prediction\")\n",
    "\n",
    "    # Remove axis labels and ticks\n",
    "    for ax in axes:\n",
    "        ax.axis('off')\n",
    "\n",
    "    # Display the side-by-side images\n",
    "    plt.tight_layout()\n",
    "    plt.show()"
   ]
  },
  {
   "cell_type": "code",
   "execution_count": null,
   "metadata": {},
   "outputs": [],
   "source": [
    "one_item_test(225)"
   ]
  },
  {
   "cell_type": "code",
   "execution_count": 19,
   "metadata": {},
   "outputs": [
    {
     "data": {
      "text/plain": [
       "<torch.autograd.grad_mode.no_grad at 0x16a3748e0>"
      ]
     },
     "execution_count": 19,
     "metadata": {},
     "output_type": "execute_result"
    }
   ],
   "source": [
    "# preparing model for inference\n",
    "prev_model = torch.load('DeepLab_new.pth.tar')\n",
    "model.load_state_dict(prev_model['state_dict'])\n",
    "model.eval()\n",
    "model.to(mps_device)\n",
    "torch.no_grad()"
   ]
  },
  {
   "cell_type": "code",
   "execution_count": 20,
   "metadata": {},
   "outputs": [
    {
     "name": "stdout",
     "output_type": "stream",
     "text": [
      "testing on training data\n",
      "val_accuracy :  93.42\n",
      "MeanIoU on Test : 0.8133876366123717\n"
     ]
    }
   ],
   "source": [
    "acc, iou = check_accuracy(test_loader, model)\n",
    "print(f\"MeanIoU on Test : {iou}\")"
   ]
  },
  {
   "cell_type": "code",
   "execution_count": 21,
   "metadata": {},
   "outputs": [
    {
     "name": "stdout",
     "output_type": "stream",
     "text": [
      "[INFO] Register count_convNd() for <class 'torch.nn.modules.conv.Conv2d'>.\n",
      "[INFO] Register zero_ops() for <class 'torch.nn.modules.pooling.MaxPool2d'>.\n",
      "[INFO] Register count_normalization() for <class 'torch.nn.modules.batchnorm.BatchNorm2d'>.\n",
      "[INFO] Register count_linear() for <class 'torch.nn.modules.linear.Linear'>.\n",
      "[INFO] Register count_upsample() for <class 'torch.nn.modules.upsampling.Upsample'>.\n",
      "[INFO] Register count_softmax() for <class 'torch.nn.modules.activation.Softmax'>.\n",
      "Computational Complexity :  4283387904.0\n"
     ]
    }
   ],
   "source": [
    "from thop import profile\n",
    "\n",
    "input = torch.randn(1, 3, 512, 512).to(mps_device)\n",
    "macs, params = profile(model, inputs=(input, ))\n",
    "print(\"Computational Complexity : \", macs)"
   ]
  },
  {
   "cell_type": "markdown",
   "metadata": {},
   "source": [
    "## Error Diagonise"
   ]
  },
  {
   "cell_type": "markdown",
   "metadata": {},
   "source": [
    "element 0 does not have grad fnc :\n",
    "problem with the way you're processing targets of the images\n",
    "due to which loss function is always 0\n",
    "\n",
    "Stack must have equal shape [3,512,512] at entry 0 and [4,512,512] at entry 8:\n",
    "THis is due to DataLoader, preobably the way you load the image to array, some images channels are not uniform\n",
    "use IMreadmode everytime to load image\n",
    "\n",
    "pytorch not compatible with int use long:\n",
    "pytorch uses only float32 or long so always convert to one of these formats while running model\n",
    "\n",
    "Loss errors:\n",
    "predictions must be (bathc, num-class, height, width)\n",
    "targets must be (batch, height, width)\n",
    "\n"
   ]
  }
 ],
 "metadata": {
  "kernelspec": {
   "display_name": "Python 3",
   "language": "python",
   "name": "python3"
  },
  "language_info": {
   "codemirror_mode": {
    "name": "ipython",
    "version": 3
   },
   "file_extension": ".py",
   "mimetype": "text/x-python",
   "name": "python",
   "nbconvert_exporter": "python",
   "pygments_lexer": "ipython3",
   "version": "3.9.18"
  },
  "orig_nbformat": 4
 },
 "nbformat": 4,
 "nbformat_minor": 2
}
